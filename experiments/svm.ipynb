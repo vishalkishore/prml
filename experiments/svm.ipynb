{
  "nbformat": 4,
  "nbformat_minor": 0,
  "metadata": {
    "colab": {
      "provenance": []
    },
    "kernelspec": {
      "name": "python3",
      "display_name": "Python 3"
    },
    "language_info": {
      "name": "python"
    }
  },
  "cells": [
    {
      "cell_type": "code",
      "execution_count": null,
      "metadata": {
        "id": "_PWJSzWS9NZ_"
      },
      "outputs": [],
      "source": [
        "import numpy as np\n",
        "import torch\n",
        "import torchvision.transforms as transforms\n",
        "import torchvision.datasets as datasets\n",
        "import torchvision.models as models\n",
        "import pandas as pd\n",
        "from sklearn.decomposition import PCA\n",
        "from sklearn.svm import SVC\n",
        "from sklearn.preprocessing import StandardScaler\n",
        "from sklearn.metrics import accuracy_score\n",
        "\n",
        "transform = transforms.Compose([\n",
        "    transforms.Resize((32, 32)),\n",
        "    transforms.ToTensor()\n",
        "])\n",
        "\n",
        "dataset = datasets.CIFAR10(root='./data', train=True, download=True, transform=transform)\n",
        "data_loader = torch.utils.data.DataLoader(dataset, batch_size=1000, shuffle=False)\n",
        "\n",
        "model = models.resnet50(pretrained=True)\n",
        "model.fc = torch.nn.Identity()\n",
        "model.eval()\n",
        "\n",
        "def extract_features(loader, model):\n",
        "    features, labels = [], []\n",
        "    with torch.no_grad():\n",
        "        for images, lbls in loader:\n",
        "            outputs = model(images).numpy()\n",
        "            features.append(outputs)\n",
        "            labels.append(lbls.numpy())\n",
        "    return np.vstack(features), np.hstack(labels)\n",
        "\n",
        "features, labels = extract_features(data_loader, model)\n",
        "\n",
        "scaler = StandardScaler()\n",
        "X_scaled = scaler.fit_transform(features).astype(np.float64)\n",
        "\n",
        "pca = PCA(n_components=40)\n",
        "X_pca = pca.fit_transform(X_scaled)\n",
        "\n",
        "svm = SVC(kernel='rbf')\n",
        "svm.fit(X_pca, labels)\n",
        "y_pred = svm.predict(X_pca)\n",
        "print(f'SVM Training Accuracy: {accuracy_score(labels, y_pred):.4f}')\n",
        "\n",
        "def retrieve_by_class(image_idx, top_n=10):\n",
        "    query_class = y_pred[image_idx]\n",
        "    same_class_indices = np.where(y_pred == query_class)[0]\n",
        "    if image_idx in same_class_indices:\n",
        "        same_class_indices = same_class_indices[same_class_indices != image_idx]  # exclude query itself\n",
        "    return same_class_indices[:top_n]\n",
        "\n",
        "retrieval_results = []\n",
        "for query_image in range(101):\n",
        "    retrieved_indices = retrieve_by_class(query_image)\n",
        "    retrieval_results.append({\n",
        "        'Query Image Index': query_image,\n",
        "        'Retrieved Indices': ', '.join(map(str, retrieved_indices))\n",
        "    })\n",
        "\n",
        "retrieval_df = pd.DataFrame(retrieval_results)\n",
        "retrieval_df.to_csv('retrieved_images.csv', index=False)\n",
        "np.save('cifar10_labels.npy', labels)\n",
        "\n",
        "print(\"Saved: 'retrieved_images.csv' and 'cifar10_labels.npy'\")\n"
      ]
    },
    {
      "cell_type": "code",
      "source": [
        "\n",
        "import pandas as pd\n",
        "import numpy as np\n",
        "from collections import Counter\n",
        "from sklearn.metrics import accuracy_score\n",
        "\n",
        "retrieval_df = pd.read_csv('retrieved_images.csv')\n",
        "labels = np.load('cifar10_labels.npy')\n",
        "\n",
        "true_labels = []\n",
        "predicted_labels = []\n",
        "\n",
        "for i, row in retrieval_df.iterrows():\n",
        "    query_idx = int(row['Query Image Index'])\n",
        "    retrieved_str = row['Retrieved Indices']\n",
        "    retrieved_idxs = list(map(int, retrieved_str.split(', ')))\n",
        "\n",
        "    retrieved_labels = labels[retrieved_idxs]\n",
        "    predicted_label = Counter(retrieved_labels).most_common(1)[0][0]\n",
        "\n",
        "    true_labels.append(labels[query_idx])\n",
        "    predicted_labels.append(predicted_label)\n",
        "\n",
        "precision = accuracy_score(true_labels, predicted_labels)\n",
        "print(precision)\n"
      ],
      "metadata": {
        "id": "K-sd6ROs9WvZ"
      },
      "execution_count": null,
      "outputs": []
    }
  ]
}